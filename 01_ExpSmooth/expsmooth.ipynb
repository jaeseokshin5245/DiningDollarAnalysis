{
 "cells": [
  {
   "cell_type": "code",
   "execution_count": 36,
   "metadata": {},
   "outputs": [],
   "source": [
    "import pandas as pd\n",
    "import numpy as np\n",
    "import matplotlib.pyplot as plt"
   ]
  },
  {
   "cell_type": "code",
   "execution_count": 37,
   "metadata": {},
   "outputs": [],
   "source": [
    "file_path = \"../data.csv\"\n",
    "df = pd.read_csv(file_path)"
   ]
  },
  {
   "cell_type": "code",
   "execution_count": 38,
   "metadata": {},
   "outputs": [],
   "source": [
    "# Convert \"Date & Time\" to datetime\n",
    "df[\"Date & Time\"] = pd.to_datetime(df[\"Date & Time\"], format=\"%B %d, %Y, %I:%M%p\")\n",
    "\n",
    "# Sort by date and time\n",
    "df = df.sort_values(by=\"Date & Time\")"
   ]
  },
  {
   "cell_type": "code",
   "execution_count": 39,
   "metadata": {},
   "outputs": [
    {
     "data": {
      "text/html": [
       "<div>\n",
       "<style scoped>\n",
       "    .dataframe tbody tr th:only-of-type {\n",
       "        vertical-align: middle;\n",
       "    }\n",
       "\n",
       "    .dataframe tbody tr th {\n",
       "        vertical-align: top;\n",
       "    }\n",
       "\n",
       "    .dataframe thead th {\n",
       "        text-align: right;\n",
       "    }\n",
       "</style>\n",
       "<table border=\"1\" class=\"dataframe\">\n",
       "  <thead>\n",
       "    <tr style=\"text-align: right;\">\n",
       "      <th></th>\n",
       "      <th>Account Name</th>\n",
       "      <th>Date &amp; Time</th>\n",
       "      <th>Activity Details</th>\n",
       "      <th>Amount ($ / Meals)</th>\n",
       "    </tr>\n",
       "  </thead>\n",
       "  <tbody>\n",
       "    <tr>\n",
       "      <th>17</th>\n",
       "      <td>Dining Dollars</td>\n",
       "      <td>2025-01-21 09:06:00</td>\n",
       "      <td>Sim - SBX1</td>\n",
       "      <td>2.65</td>\n",
       "    </tr>\n",
       "    <tr>\n",
       "      <th>16</th>\n",
       "      <td>Dining Dollars</td>\n",
       "      <td>2025-01-21 12:03:00</td>\n",
       "      <td>Sim - Gorillas3</td>\n",
       "      <td>7.28</td>\n",
       "    </tr>\n",
       "    <tr>\n",
       "      <th>18</th>\n",
       "      <td>Dining Dollars</td>\n",
       "      <td>2025-01-21 18:11:00</td>\n",
       "      <td>Sim - GibsonDining1</td>\n",
       "      <td>9.50</td>\n",
       "    </tr>\n",
       "    <tr>\n",
       "      <th>15</th>\n",
       "      <td>Dining Dollars</td>\n",
       "      <td>2025-01-21 18:11:00</td>\n",
       "      <td>Sim - GibsonDining1</td>\n",
       "      <td>9.50</td>\n",
       "    </tr>\n",
       "    <tr>\n",
       "      <th>14</th>\n",
       "      <td>Dining Dollars</td>\n",
       "      <td>2025-01-22 08:16:00</td>\n",
       "      <td>Sim - GibsonDining1</td>\n",
       "      <td>9.00</td>\n",
       "    </tr>\n",
       "    <tr>\n",
       "      <th>13</th>\n",
       "      <td>Dining Dollars</td>\n",
       "      <td>2025-01-22 10:32:00</td>\n",
       "      <td>Sim - SBX1</td>\n",
       "      <td>2.65</td>\n",
       "    </tr>\n",
       "    <tr>\n",
       "      <th>12</th>\n",
       "      <td>Dining Dollars</td>\n",
       "      <td>2025-01-23 07:38:00</td>\n",
       "      <td>Sim - GibsonDining1</td>\n",
       "      <td>9.00</td>\n",
       "    </tr>\n",
       "    <tr>\n",
       "      <th>11</th>\n",
       "      <td>Dining Dollars</td>\n",
       "      <td>2025-01-23 10:53:00</td>\n",
       "      <td>Sim - SBX1</td>\n",
       "      <td>2.65</td>\n",
       "    </tr>\n",
       "    <tr>\n",
       "      <th>10</th>\n",
       "      <td>Dining Dollars</td>\n",
       "      <td>2025-01-23 18:08:00</td>\n",
       "      <td>Sim - GibsonDining1</td>\n",
       "      <td>1.00</td>\n",
       "    </tr>\n",
       "    <tr>\n",
       "      <th>9</th>\n",
       "      <td>Dining Dollars</td>\n",
       "      <td>2025-01-24 08:22:00</td>\n",
       "      <td>Sim - GibsonDining1</td>\n",
       "      <td>9.00</td>\n",
       "    </tr>\n",
       "    <tr>\n",
       "      <th>8</th>\n",
       "      <td>Dining Dollars</td>\n",
       "      <td>2025-01-24 09:54:00</td>\n",
       "      <td>Sim - SBX1</td>\n",
       "      <td>2.65</td>\n",
       "    </tr>\n",
       "    <tr>\n",
       "      <th>7</th>\n",
       "      <td>Dining Dollars</td>\n",
       "      <td>2025-01-25 11:53:00</td>\n",
       "      <td>Sim - GibsonDining1</td>\n",
       "      <td>9.50</td>\n",
       "    </tr>\n",
       "    <tr>\n",
       "      <th>6</th>\n",
       "      <td>Dining Dollars</td>\n",
       "      <td>2025-01-26 18:34:00</td>\n",
       "      <td>Sim - GibsonDining1</td>\n",
       "      <td>9.50</td>\n",
       "    </tr>\n",
       "    <tr>\n",
       "      <th>5</th>\n",
       "      <td>Dining Dollars</td>\n",
       "      <td>2025-01-27 07:46:00</td>\n",
       "      <td>Sim - GibsonDining1</td>\n",
       "      <td>9.00</td>\n",
       "    </tr>\n",
       "    <tr>\n",
       "      <th>4</th>\n",
       "      <td>Dining Dollars</td>\n",
       "      <td>2025-01-27 09:54:00</td>\n",
       "      <td>Sim - SBX1</td>\n",
       "      <td>1.65</td>\n",
       "    </tr>\n",
       "    <tr>\n",
       "      <th>3</th>\n",
       "      <td>Dining Dollars</td>\n",
       "      <td>2025-01-27 17:15:00</td>\n",
       "      <td>Sim - GibsonDining1</td>\n",
       "      <td>9.50</td>\n",
       "    </tr>\n",
       "    <tr>\n",
       "      <th>2</th>\n",
       "      <td>Dining Dollars</td>\n",
       "      <td>2025-01-28 07:43:00</td>\n",
       "      <td>Sim - GibsonDining1</td>\n",
       "      <td>9.00</td>\n",
       "    </tr>\n",
       "    <tr>\n",
       "      <th>1</th>\n",
       "      <td>Dining Dollars</td>\n",
       "      <td>2025-01-28 15:15:00</td>\n",
       "      <td>Sim - SBX1</td>\n",
       "      <td>4.25</td>\n",
       "    </tr>\n",
       "    <tr>\n",
       "      <th>0</th>\n",
       "      <td>Dining Dollars</td>\n",
       "      <td>2025-01-29 07:41:00</td>\n",
       "      <td>Sim - GibsonDining1</td>\n",
       "      <td>9.00</td>\n",
       "    </tr>\n",
       "  </tbody>\n",
       "</table>\n",
       "</div>"
      ],
      "text/plain": [
       "      Account Name         Date & Time     Activity Details  \\\n",
       "17  Dining Dollars 2025-01-21 09:06:00           Sim - SBX1   \n",
       "16  Dining Dollars 2025-01-21 12:03:00      Sim - Gorillas3   \n",
       "18  Dining Dollars 2025-01-21 18:11:00  Sim - GibsonDining1   \n",
       "15  Dining Dollars 2025-01-21 18:11:00  Sim - GibsonDining1   \n",
       "14  Dining Dollars 2025-01-22 08:16:00  Sim - GibsonDining1   \n",
       "13  Dining Dollars 2025-01-22 10:32:00           Sim - SBX1   \n",
       "12  Dining Dollars 2025-01-23 07:38:00  Sim - GibsonDining1   \n",
       "11  Dining Dollars 2025-01-23 10:53:00           Sim - SBX1   \n",
       "10  Dining Dollars 2025-01-23 18:08:00  Sim - GibsonDining1   \n",
       "9   Dining Dollars 2025-01-24 08:22:00  Sim - GibsonDining1   \n",
       "8   Dining Dollars 2025-01-24 09:54:00           Sim - SBX1   \n",
       "7   Dining Dollars 2025-01-25 11:53:00  Sim - GibsonDining1   \n",
       "6   Dining Dollars 2025-01-26 18:34:00  Sim - GibsonDining1   \n",
       "5   Dining Dollars 2025-01-27 07:46:00  Sim - GibsonDining1   \n",
       "4   Dining Dollars 2025-01-27 09:54:00           Sim - SBX1   \n",
       "3   Dining Dollars 2025-01-27 17:15:00  Sim - GibsonDining1   \n",
       "2   Dining Dollars 2025-01-28 07:43:00  Sim - GibsonDining1   \n",
       "1   Dining Dollars 2025-01-28 15:15:00           Sim - SBX1   \n",
       "0   Dining Dollars 2025-01-29 07:41:00  Sim - GibsonDining1   \n",
       "\n",
       "    Amount ($ / Meals)  \n",
       "17                2.65  \n",
       "16                7.28  \n",
       "18                9.50  \n",
       "15                9.50  \n",
       "14                9.00  \n",
       "13                2.65  \n",
       "12                9.00  \n",
       "11                2.65  \n",
       "10                1.00  \n",
       "9                 9.00  \n",
       "8                 2.65  \n",
       "7                 9.50  \n",
       "6                 9.50  \n",
       "5                 9.00  \n",
       "4                 1.65  \n",
       "3                 9.50  \n",
       "2                 9.00  \n",
       "1                 4.25  \n",
       "0                 9.00  "
      ]
     },
     "execution_count": 39,
     "metadata": {},
     "output_type": "execute_result"
    }
   ],
   "source": [
    "df.head(25)"
   ]
  },
  {
   "cell_type": "code",
   "execution_count": 40,
   "metadata": {},
   "outputs": [],
   "source": [
    "from statsmodels.tsa.holtwinters import SimpleExpSmoothing"
   ]
  },
  {
   "cell_type": "code",
   "execution_count": 41,
   "metadata": {},
   "outputs": [
    {
     "name": "stderr",
     "output_type": "stream",
     "text": [
      "d:\\Program\\anaconda3\\lib\\site-packages\\statsmodels\\tsa\\base\\tsa_model.py:473: ValueWarning: An unsupported index was provided and will be ignored when e.g. forecasting.\n",
      "  self._init_dates(dates, freq)\n"
     ]
    }
   ],
   "source": [
    "model = SimpleExpSmoothing(df[\"Amount ($ / Meals)\"])\n"
   ]
  },
  {
   "cell_type": "code",
   "execution_count": 42,
   "metadata": {},
   "outputs": [],
   "source": [
    "fit = model.fit(smoothing_level=0.2, optimized=False)"
   ]
  },
  {
   "cell_type": "code",
   "execution_count": 43,
   "metadata": {},
   "outputs": [],
   "source": [
    "fitted_values = fit.fittedvalues"
   ]
  },
  {
   "cell_type": "code",
   "execution_count": 45,
   "metadata": {},
   "outputs": [
    {
     "data": {
      "image/png": "[encoded data removed]",
      "text/plain": [
       "<Figure size 640x480 with 1 Axes>"
      ]
     },
     "metadata": {},
     "output_type": "display_data"
    }
   ],
   "source": [
    "plt.plot(df[\"Date & Time\"], df[\"Amount ($ / Meals)\"], label='Original Data')\n",
    "plt.plot(df[\"Date & Time\"], fitted_values, label='Fitted Values (SES)', linestyle='--')\n",
    "plt.legend()\n",
    "plt.show()"
   ]
  },
  {
   "cell_type": "code",
   "execution_count": null,
   "metadata": {},
   "outputs": [],
   "source": []
  }
 ],
 "metadata": {
  "kernelspec": {
   "display_name": "base",
   "language": "python",
   "name": "python3"
  },
  "language_info": {
   "codemirror_mode": {
    "name": "ipython",
    "version": 3
   },
   "file_extension": ".py",
   "mimetype": "text/x-python",
   "name": "python",
   "nbconvert_exporter": "python",
   "pygments_lexer": "ipython3",
   "version": "3.10.13"
  }
 },
 "nbformat": 4,
 "nbformat_minor": 2
}
