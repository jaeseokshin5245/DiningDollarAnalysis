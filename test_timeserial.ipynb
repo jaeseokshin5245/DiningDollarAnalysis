{
 "cells": [
  {
   "cell_type": "code",
   "execution_count": null,
   "metadata": {},
   "outputs": [],
   "source": [
    "data = {\n",
    "    \"Account Name\": [\"Dining Dollars\"] * 11,\n",
    "    \"Date & Time\": [\n",
    "        \"January 25, 2025,11:53AM\",\n",
    "        \"January 24, 2025,9:54AM\",\n",
    "        \"January 24, 2025,8:22AM\",\n",
    "        \"January 23, 2025,6:08PM\",\n",
    "        \"January 23, 2025,10:53AM\",\n",
    "        \"January 23, 2025,7:38AM\",\n",
    "        \"January 22, 2025,10:32AM\",\n",
    "        \"January 22, 2025,8:16AM\",\n",
    "        \"January 21, 2025,6:11PM\",\n",
    "        \"January 21, 2025,12:03PM\",\n",
    "        \"January 21, 2025,9:06AM\",\n",
    "    ],\n",
    "    \"Activity Details\": [\n",
    "        \"Sim - GibsonDining1\",\n",
    "        \"Sim - SBX1\",\n",
    "        \"Sim - GibsonDining1\",\n",
    "        \"Sim - GibsonDining1\",\n",
    "        \"Sim - SBX1\",\n",
    "        \"Sim - GibsonDining1\",\n",
    "        \"Sim - SBX1\",\n",
    "        \"Sim - GibsonDining1\",\n",
    "        \"Sim - GibsonDining1\",\n",
    "        \"Sim - Gorillas3\",\n",
    "        \"Sim - SBX1\",\n",
    "    ],\n",
    "    \"Amount ($ / Meals)\": [9.50, 2.65, 9.00, 1.00, 2.65, 9.00, 2.65, 9.00, 9.50, 7.28, 2.65],\n",
    "}"
   ]
  },
  {
   "cell_type": "code",
   "execution_count": null,
   "metadata": {},
   "outputs": [],
   "source": [
    "df = pd.DataFrame(data)\n",
    "\n",
    "# Convert \"Date & Time\" to datetime\n",
    "df[\"Date & Time\"] = pd.to_datetime(df[\"Date & Time\"], format=\"%B %d, %Y,%I:%M%p\")\n",
    "\n",
    "# Sort by date and time\n",
    "df = df.sort_values(by=\"Date & Time\")\n",
    "\n",
    "# Calculate cumulative spending\n",
    "df[\"Cumulative Spending\"] = df[\"Amount ($ / Meals)\"].cumsum()\n",
    "df[\"Remaining Balance\"] = 1000 - df[\"Cumulative Spending\"]"
   ]
  },
  {
   "cell_type": "code",
   "execution_count": null,
   "metadata": {},
   "outputs": [],
   "source": []
  },
  {
   "cell_type": "code",
   "execution_count": null,
   "metadata": {},
   "outputs": [],
   "source": []
  },
  {
   "cell_type": "code",
   "execution_count": null,
   "metadata": {},
   "outputs": [],
   "source": []
  }
 ],
 "metadata": {
  "language_info": {
   "name": "python"
  }
 },
 "nbformat": 4,
 "nbformat_minor": 2
}
