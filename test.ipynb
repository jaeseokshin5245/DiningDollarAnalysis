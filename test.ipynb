{
 "cells": [
  {
   "cell_type": "code",
   "execution_count": 4,
   "metadata": {},
   "outputs": [],
   "source": [
    "# import libaraies\n",
    "import pandas as pd\n",
    "import numpy as np\n",
    "import matplotlib.pyplot as plt\n",
    "import os"
   ]
  },
  {
   "cell_type": "code",
   "execution_count": 7,
   "metadata": {},
   "outputs": [
    {
     "name": "stdout",
     "output_type": "stream",
     "text": [
      "     Account Name:               Date & Time     Activity Details  \\\n",
      "0   Dining Dollars  January 25, 2025,11:53AM  Sim - GibsonDining1   \n",
      "1   Dining Dollars   January 24, 2025,9:54AM           Sim - SBX1   \n",
      "2   Dining Dollars   January 24, 2025,8:22AM  Sim - GibsonDining1   \n",
      "3   Dining Dollars   January 23, 2025,6:08PM  Sim - GibsonDining1   \n",
      "4   Dining Dollars  January 23, 2025,10:53AM           Sim - SBX1   \n",
      "5   Dining Dollars   January 23, 2025,7:38AM  Sim - GibsonDining1   \n",
      "6   Dining Dollars  January 22, 2025,10:32AM           Sim - SBX1   \n",
      "7   Dining Dollars   January 22, 2025,8:16AM  Sim - GibsonDining1   \n",
      "8   Dining Dollars   January 21, 2025,6:11PM  Sim - GibsonDining1   \n",
      "9   Dining Dollars  January 21, 2025,12:03PM      Sim - Gorillas3   \n",
      "10  Dining Dollars   January 21, 2025,9:06AM           Sim - SBX1   \n",
      "\n",
      "   Amount ($ / Meals)  \n",
      "0             ($9.50)  \n",
      "1             ($2.65)  \n",
      "2             ($9.00)  \n",
      "3             ($1.00)  \n",
      "4             ($2.65)  \n",
      "5             ($9.00)  \n",
      "6             ($2.65)  \n",
      "7             ($9.00)  \n",
      "8             ($9.50)  \n",
      "9             ($7.28)  \n",
      "10            ($2.65)  \n"
     ]
    }
   ],
   "source": [
    "df = pd.read_csv('data.csv')\n",
    "print(df)"
   ]
  },
  {
   "cell_type": "code",
   "execution_count": null,
   "metadata": {},
   "outputs": [],
   "source": []
  }
 ],
 "metadata": {
  "kernelspec": {
   "display_name": "base",
   "language": "python",
   "name": "python3"
  },
  "language_info": {
   "codemirror_mode": {
    "name": "ipython",
    "version": 3
   },
   "file_extension": ".py",
   "mimetype": "text/x-python",
   "name": "python",
   "nbconvert_exporter": "python",
   "pygments_lexer": "ipython3",
   "version": "3.10.13"
  }
 },
 "nbformat": 4,
 "nbformat_minor": 2
}
